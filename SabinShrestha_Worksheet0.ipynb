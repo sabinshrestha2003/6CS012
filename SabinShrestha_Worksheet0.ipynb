{
  "nbformat": 4,
  "nbformat_minor": 0,
  "metadata": {
    "colab": {
      "provenance": []
    },
    "kernelspec": {
      "name": "python3",
      "display_name": "Python 3"
    },
    "language_info": {
      "name": "python"
    }
  },
  "cells": [
    {
      "cell_type": "markdown",
      "source": [
        " Python Version Check"
      ],
      "metadata": {
        "id": "ot_AkW427DUC"
      }
    },
    {
      "cell_type": "code",
      "execution_count": null,
      "metadata": {
        "colab": {
          "base_uri": "https://localhost:8080/"
        },
        "id": "7BYtl6JW51Wx",
        "outputId": "3b3130f0-b702-475a-e50d-01d6ce93c912"
      },
      "outputs": [
        {
          "output_type": "stream",
          "name": "stdout",
          "text": [
            "Hello, World!\n",
            "Python version: 3.11.11 (main, Dec  4 2024, 08:55:07) [GCC 11.4.0]\n"
          ]
        }
      ],
      "source": [
        "import sys\n",
        "if sys.version_info.major == 3 and sys.version_info.minor >= 6:\n",
        "  print(\"Hello, World!\")\n",
        "  print(f\"Python version: {sys.version}\")\n",
        "else:\n",
        "  print(\"Please use Python 3.6 or higher.\")"
      ]
    },
    {
      "cell_type": "markdown",
      "source": [
        " Difference between Mutable and Immutable Data Types."
      ],
      "metadata": {
        "id": "APa4mntX7l48"
      }
    },
    {
      "cell_type": "code",
      "source": [
        "my_list = [1, 2, 3]\n",
        "print(\"Original List:\", my_list)\n",
        "my_list.append(4)\n",
        "print(\"Modified List:\", my_list)\n",
        "my_tuple = (1, 2, 3)\n",
        "print(\"Original Tuple:\", my_tuple)"
      ],
      "metadata": {
        "colab": {
          "base_uri": "https://localhost:8080/"
        },
        "id": "MW75fDH37dn3",
        "outputId": "d33fae64-2966-46aa-a28c-9a9550aeb019"
      },
      "execution_count": null,
      "outputs": [
        {
          "output_type": "stream",
          "name": "stdout",
          "text": [
            "Original List: [1, 2, 3]\n",
            "Modified List: [1, 2, 3, 4]\n",
            "Original Tuple: (1, 2, 3)\n"
          ]
        }
      ]
    },
    {
      "cell_type": "markdown",
      "source": [
        "4.1 Exercise on Functions:\n",
        " Task- 1:\n",
        " Create a Python program that converts between different units of measurement."
      ],
      "metadata": {
        "id": "sTnGHcuY8eor"
      }
    },
    {
      "cell_type": "code",
      "source": [
        "def convert_units(value, choice):\n",
        "  \"\"\"Convert between units baded on user choice.\n",
        "  Parameters:\n",
        "  value (float): Value to convert\n",
        "  choice (int): Conversion option (1-6)\n",
        "\n",
        "  Returns:\n",
        "  floatL Converted value\n",
        "  \"\"\"\n",
        "  conversions = {\n",
        "      1: (value * 3.28084, \"meters\", \"feet\"),\n",
        "      2: (value * 0.3048, \"feet\", \"meters\"),\n",
        "      3: (value * 2.20462, \"kg\", \"lbs\"),\n",
        "      4: (value * 0.453592, \"lbs\", \"kg\"),\n",
        "      5: (value * 0.264172, \"liters\", \"gallons\"),\n",
        "      6: (value * 3.78541, \"gallons\", \"liters\")\n",
        "  }\n",
        "\n",
        "  result, from_unit, to_unit = conversions[choice]\n",
        "  return round(result, 2), from_unit, to_unit\n",
        "\n",
        "def main():\n",
        "  print(\"Choose conversion:\")\n",
        "  print(\"1. Meters to Feet\")\n",
        "  print(\"2. Feet to Meters\")\n",
        "  print(\"3. Kilograms to Pounds\")\n",
        "  print(\"4. Pounds to Kilograms\")\n",
        "  print(\"5. Liters to Gallons\")\n",
        "  print(\"6. Gallons to Liters\")\n",
        "\n",
        "  try:\n",
        "    choice = int(input(\"Enter choice (1-6):\"))\n",
        "    if choice not in range (1,7):\n",
        "      print(\"Please enter a number between 1 and 6\")\n",
        "      return\n",
        "\n",
        "    value = float(input(\"Enter value:\"))\n",
        "    if value<0:\n",
        "      print(\"Value cannot be negative\")\n",
        "      return\n",
        "\n",
        "    result, from_unit, to_unit = convert_units(value, choice)\n",
        "    print(f\"{value} {from_unit} = {result} {to_unit}\")\n",
        "\n",
        "  except ValueError:\n",
        "    print(\"Invalid input: Please enter numbers only\")\n",
        "\n",
        "main()"
      ],
      "metadata": {
        "colab": {
          "base_uri": "https://localhost:8080/"
        },
        "id": "AztIUDOl8fzv",
        "outputId": "9fe53b10-0b5a-46b6-84c4-eae2d321a5e2"
      },
      "execution_count": null,
      "outputs": [
        {
          "output_type": "stream",
          "name": "stdout",
          "text": [
            "Choose conversion:\n",
            "1. Meters to Feet\n",
            "2. Feet to Meters\n",
            "3. Kilograms to Pounds\n",
            "4. Pounds to Kilograms\n",
            "5. Liters to Gallons\n",
            "6. Gallons to Liters\n",
            "Enter choice (1-6):5\n",
            "Enter value:99\n",
            "99.0 liters = 26.15 gallons\n"
          ]
        }
      ]
    },
    {
      "cell_type": "markdown",
      "source": [
        " Task- 2:\n",
        " Create a Python program that performs various mathematical operations on a list of numbers."
      ],
      "metadata": {
        "id": "RbqsrWGRDKft"
      }
    },
    {
      "cell_type": "code",
      "source": [
        "def calculate_sum(numbers):\n",
        "  \"\"\"Calculate the sum of a list of numbers.\n",
        "\n",
        "  Parameters: numbers (list): List of numbers\n",
        "\n",
        "  Returns: float: Sum of all number \"\"\"\n",
        "  return sum(numbers)\n",
        "\n",
        "def calculate_average(numbers):\n",
        "  \"\"\"Calculate the average of a list of numbers.\n",
        "\n",
        "  Parameters: numbers (list): List of numbers\n",
        "\n",
        "  Returns: float: Average of all numbers \"\"\"\n",
        "  return sum(numbers)/len(numbers)\n",
        "\n",
        "def find_maximum(numbers):\n",
        "  \"\"\"Find the maximum value in a list of numbers.\n",
        "\n",
        "  Parameters: numbers (list): List of numbers\n",
        "\n",
        "  Returns: float: Maximum value \"\"\"\n",
        "\n",
        "  return max(numbers)\n",
        "\n",
        "def find_minimum(numbers):\n",
        "  \"\"\"Find the minimum value in a list of numbers.\n",
        "\n",
        "  Parameters: numbers (list): List of numbers\n",
        "\n",
        "  Returns: float: Minimum value \"\"\"\n",
        "  return min(numbers)\n",
        "\n",
        "def main():\n",
        "  print(\"Mathematical Operations:\")\n",
        "  print(\"1. Sum\")\n",
        "  print(\"2. Average\")\n",
        "  print(\"3. Maximum\")\n",
        "  print(\"4. Minimum\")\n",
        "\n",
        "  try:\n",
        "    choice = int(input(\"Enter operation choice (1-4):\"))\n",
        "    if choice not in range (1,5):\n",
        "      print(\"Please enter a number between 1 and 4\")\n",
        "      return\n",
        "\n",
        "    numbers_input = input(\"Enter numbers separated by spaces:\")\n",
        "    numbers = [float(num) for num in numbers_input.split()]\n",
        "\n",
        "    if not numbers:\n",
        "      print(\"Error: Empty list provided\")\n",
        "      return\n",
        "\n",
        "    operations = {\n",
        "        1: (calculate_sum, \"Sum\"),\n",
        "        2: (calculate_average, \"Average\"),\n",
        "        3: (find_maximum, \"Maximum\"),\n",
        "        4: (find_minimum, \"Minimum\")\n",
        "    }\n",
        "\n",
        "    operation_func, operation_name = operations[choice]\n",
        "    result = operation_func(numbers)\n",
        "    print(f\"{operation_name} of {numbers} = {round(result, 2)}\")\n",
        "\n",
        "  except ValueError:\n",
        "    print(\"Invalid input: Please enter valid numbers only\")\n",
        "  except ZeroDivisionError:\n",
        "    print(\"Error: Cannot calculate average of empty list\")\n",
        "\n",
        "main()"
      ],
      "metadata": {
        "colab": {
          "base_uri": "https://localhost:8080/"
        },
        "id": "qpQ6b0V6DLDz",
        "outputId": "9c4b9df4-0ae9-43c9-d3d6-2c693e2d8930"
      },
      "execution_count": null,
      "outputs": [
        {
          "output_type": "stream",
          "name": "stdout",
          "text": [
            "Mathematical Operations:\n",
            "1. Sum\n",
            "2. Average\n",
            "3. Maximum\n",
            "4. Minimum\n",
            "Enter operation choice (1-4):4\n",
            "Enter numbers separated by spaces:1 5 77 88 98\n",
            "Minimum of [1.0, 5.0, 77.0, 88.0, 98.0] = 1.0\n"
          ]
        }
      ]
    },
    {
      "cell_type": "markdown",
      "source": [
        " 4.2 Exercise on List Manipulation:\n"
      ],
      "metadata": {
        "id": "IOJODFmdI35D"
      }
    },
    {
      "cell_type": "code",
      "source": [
        "def extract_every_other(lst):\n",
        "  return lst[::2]\n",
        "\n",
        "def get_sublist(lst, start, end):\n",
        "  return lst[start:end + 1]\n",
        "\n",
        "def reverse_slicing(lst):\n",
        "  return lst[::-1]\n",
        "\n",
        "def remove_first_last(lst):\n",
        "  return lst[1:-1]\n",
        "\n",
        "def get_first_n(lst, n):\n",
        "  return lst[:n]\n",
        "\n",
        "def get_last_n(lst,n):\n",
        "  return lst[-n:]\n",
        "\n",
        "def reverse_skip(lst):\n",
        "  return lst[-2::-2]\n",
        "\n",
        "def main():\n",
        "  lst = [1,2,3,4,5,6]\n",
        "  print(f\"Original list: {lst}\")\n",
        "  print(\"Every other element:\", extract_every_other(lst))\n",
        "  print(\"Sublist (2,4):\", get_sublist(lst, 2,4))\n",
        "  print(\"Reversed list:\", reverse_slicing(lst))\n",
        "  print(\"Without first and last:\", remove_first_last(lst))\n",
        "  print(\"First 3 elements:\", get_first_n(lst,3))\n",
        "  print(\"Last 2 elements:\", get_last_n(lst,2))\n",
        "  print(\"Reverse skip:\", reverse_skip(lst))\n",
        "\n",
        "\n",
        "main()"
      ],
      "metadata": {
        "colab": {
          "base_uri": "https://localhost:8080/"
        },
        "id": "RwqkPBpNHJkn",
        "outputId": "856d1f6c-b213-456f-e370-cd09ef327a3d"
      },
      "execution_count": null,
      "outputs": [
        {
          "output_type": "stream",
          "name": "stdout",
          "text": [
            "Original list: [1, 2, 3, 4, 5, 6]\n",
            "Every other element: [1, 3, 5]\n",
            "Sublist (2,4): [3, 4, 5]\n",
            "Reversed list: [6, 5, 4, 3, 2, 1]\n",
            "Without first and last: [2, 3, 4, 5]\n",
            "First 3 elements: [1, 2, 3]\n",
            "Last 2 elements: [5, 6]\n",
            "Reverse skip: [5, 3, 1]\n"
          ]
        }
      ]
    },
    {
      "cell_type": "markdown",
      "source": [
        "4.3 Exercise on Nested List:"
      ],
      "metadata": {
        "id": "puRUf0njzo5g"
      }
    },
    {
      "cell_type": "code",
      "source": [
        "def flatten(lst):\n",
        "  flattened = []\n",
        "  for item in lst:\n",
        "    if isinstance(item, list):\n",
        "      flattened.extend(flatten(item))\n",
        "    else:\n",
        "      flattened.append(item)\n",
        "  return flattened\n",
        "\n",
        "def access_nested_element(lst, indices):\n",
        "  result = lst\n",
        "  for index in indices:\n",
        "    result = result[index]\n",
        "  return result\n",
        "\n",
        "def sum_nested(lst):\n",
        "  total = 0\n",
        "  for item in lst:\n",
        "    if isinstance(item, list):\n",
        "      total += sum_nested(item)\n",
        "    elif isinstance(item, (int,float)):\n",
        "      total += item\n",
        "  return total\n",
        "\n",
        "def remove_element(lst,elem):\n",
        "  result = []\n",
        "  for item in lst:\n",
        "    if isinstance(item,list):\n",
        "      result.append(remove_element(item, elem))\n",
        "    elif item != elem:\n",
        "      result.append(item)\n",
        "  return result\n",
        "\n",
        "def find_max(lst):\n",
        "  flattened = flatten(lst)\n",
        "  return max(flattened) if flattened else None\n",
        "\n",
        "def count_occurences(lst, elem):\n",
        "  count = 0\n",
        "  for item in lst:\n",
        "    if isinstance(item, list):\n",
        "      count ++ count_occurences(item, elem)\n",
        "    elif item == elem:\n",
        "      count += 1\n",
        "  return count\n",
        "\n",
        "def deep_flatten(lst):\n",
        "  flattened =[]\n",
        "  for item in lst:\n",
        "    if isinstance(item, list):\n",
        "      flattened.extend(deep_flatten(item))\n",
        "    else:\n",
        "      flattened.append(item)\n",
        "  return flattened\n",
        "\n",
        "def average_nested(lst):\n",
        "  flat_list = flatten(lst)\n",
        "  return sum(flat_list) / len(flat_list) if flat_list else 0\n",
        "\n",
        "def main():\n",
        "  nested_list1 = [[1,2], [3,4], [5]]\n",
        "  nested_list2 = [[1,2,3], [4,5,6], [7,8,9]]\n",
        "  nested_list3 =[[1,2], [3,[4,5]],6]\n",
        "  nested_list4 =[[1,2],[2,3],[2,4]]\n",
        "  nested_list5 = [[[1,2], [3,4]],[[5,6], [7,8]]]\n",
        "\n",
        "  print(\"1.Flatten:\", flatten(nested_list1))\n",
        "  print(\"2. Access element [1,2]:\", access_nested_element(nested_list2, [1,2]))\n",
        "  print(\"3. Sum:\", sum_nested(nested_list3))\n",
        "  print(\"4. Remove 2:\", remove_element(nested_list4, 2))\n",
        "  print(\"5. Max:\", find_max(nested_list3))\n",
        "  print(\"6. Count 2:\", count_occurences(nested_list4, 2))\n",
        "  print(\"7. Deep flatten:\", deep_flatten(nested_list5))\n",
        "  print(\"8. Average:\", average_nested(nested_list1))\n",
        "\n",
        "main()"
      ],
      "metadata": {
        "colab": {
          "base_uri": "https://localhost:8080/"
        },
        "id": "WoU0LfdjehUh",
        "outputId": "8d8bc583-3d79-4d79-b680-607a5467dd7b"
      },
      "execution_count": null,
      "outputs": [
        {
          "output_type": "stream",
          "name": "stdout",
          "text": [
            "1.Flatten: [1, 2, 3, 4, 5]\n",
            "2. Access element [1,2]: 6\n",
            "3. Sum: 21\n",
            "4. Remove 2: [[1], [3], [4]]\n",
            "5. Max: 6\n",
            "6. Count 2: 0\n",
            "7. Deep flatten: [1, 2, 3, 4, 5, 6, 7, 8]\n",
            "8. Average: 3.0\n"
          ]
        }
      ]
    },
    {
      "cell_type": "markdown",
      "source": [
        "10 To- Do- NumPy\n",
        " Please complete all the problems listed below:\n",
        " 10.1 Basic Vector and Matrix Operation with Numpy.\n",
        " Problem- 1: Array Creation:\n",
        " Complete the following Tasks:\n",
        " 1. Initialize an empty array with size 2X2.\n",
        " 2. Initialize an all one array with size 4X2.\n",
        " 3. Return a new array of given shape and type, filled with fill value.{Hint: np.full}\n",
        " 4. Return a new array of zeros with same shape and type as a given array.{Hint: np.zeros like}\n",
        " 5. Return a new array of ones with same shape and type as a given array.{Hint: np.ones like}\n",
        " 6. For an existing list new_list = [1,2,3,4] convert to an numpy array.{Hint: np.array()}"
      ],
      "metadata": {
        "id": "sxhulGtJ0DvG"
      }
    },
    {
      "cell_type": "code",
      "source": [
        "import numpy as np\n",
        "\n",
        "def array_creation():\n",
        "  empty_array = np.empty((2,2))\n",
        "  print(\"1. Empty 2x2 array:\")\n",
        "  print(empty_array)\n",
        "  print()\n",
        "\n",
        "  ones_array = np.ones((4,2))\n",
        "  print(\"2. All ones 4x2 array:\")\n",
        "  print(ones_array)\n",
        "  print()\n",
        "\n",
        "  filled_array = np.full((3,3), fill_value=7)\n",
        "  print(\"3. 3x3 array filled with 7:\")\n",
        "  print(filled_array)\n",
        "  print()\n",
        "\n",
        "  sample_array = np.array([[1,2], [3,4]])\n",
        "  zeros_like_array = np.zeros_like(sample_array)\n",
        "  print(\"4. Zeros array with same shape as [[1,2], [3,4]]:\")\n",
        "  print(zeros_like_array)\n",
        "  print()\n",
        "\n",
        "  ones_like_array = np.ones_like(sample_array)\n",
        "  print(\"5. Ones array with same shape as [[1,2], [3,4]]:\")\n",
        "  print(ones_like_array)\n",
        "  print()\n",
        "\n",
        "  new_list = [1,2,3,4]\n",
        "  numpy_array = np.array(new_list)\n",
        "  print(\"6. Numpy array from list [1,2,3,4]:\")\n",
        "  print(numpy_array)\n",
        "  print(\"Type:\", type(numpy_array))\n",
        "\n",
        "array_creation()\n"
      ],
      "metadata": {
        "colab": {
          "base_uri": "https://localhost:8080/"
        },
        "id": "yx5kj-LkrU1M",
        "outputId": "8168a955-67c4-4b9b-ebfb-5a5c0d424f56"
      },
      "execution_count": null,
      "outputs": [
        {
          "output_type": "stream",
          "name": "stdout",
          "text": [
            "1. Empty 2x2 array:\n",
            "[[0.73170129 0.76261359]\n",
            " [0.07019702 0.96364827]]\n",
            "\n",
            "2. All ones 4x2 array:\n",
            "[[1. 1.]\n",
            " [1. 1.]\n",
            " [1. 1.]\n",
            " [1. 1.]]\n",
            "\n",
            "3. 3x3 array filled with 7:\n",
            "[[7 7 7]\n",
            " [7 7 7]\n",
            " [7 7 7]]\n",
            "\n",
            "4. Zeros array with same shape as [[1,2], [3,4]]:\n",
            "[[0 0]\n",
            " [0 0]]\n",
            "\n",
            "5. Ones array with same shape as [[1,2], [3,4]]:\n",
            "[[1 1]\n",
            " [1 1]]\n",
            "\n",
            "6. Numpy array from list [1,2,3,4]:\n",
            "[1 2 3 4]\n",
            "Type: <class 'numpy.ndarray'>\n"
          ]
        }
      ]
    },
    {
      "cell_type": "markdown",
      "source": [
        " Problem- 2: Array Manipulation: Numerical Ranges and Array indexing:\n",
        " Complete the following tasks:\n",
        " 1. Create an array with values ranging from 10 to 49. {Hint:np.arrange()}.\n",
        " 2. Create a 3X3 matrix with values ranging from 0 to 8.\n",
        " {Hint:look for np.reshape()}\n",
        " 3. Create a 3X3 identity matrix.{Hint:np.eye()}\n",
        " 4. Create a random array of size 30 and find the mean of the array.\n",
        " {Hint:check for np.random.random() and array.mean() function}\n",
        " 5. Create a 10X10 array with random values and find the minimum and maximum values.\n",
        " 6. Create a zero array of size 10 and replace 5th element with 1.\n",
        " 7. Reverse an array arr = [1,2,0,0,4,0].\n",
        " 8. Create a 2d array with 1 on border and 0 inside.\n",
        " 9. Create a 8X8 matrix and fill it with a checkerboard pattern."
      ],
      "metadata": {
        "id": "vySP9fFC2Wby"
      }
    },
    {
      "cell_type": "code",
      "source": [
        "import numpy as np\n",
        "\n",
        "def array_manipulation():\n",
        "  range_array = np.arange(10,50)\n",
        "  print(\"1. Array from 10 to 49:\")\n",
        "  print(range_array)\n",
        "  print()\n",
        "\n",
        "  matrix_3x3 = np.arange(9).reshape(3,3)\n",
        "  print(\"2. 3x3 matrix (0-8):\")\n",
        "  print(matrix_3x3)\n",
        "  print()\n",
        "\n",
        "  identity_matrix = np.eye(3)\n",
        "  print(\"3. 3x3 identity matrix:\")\n",
        "  print(identity_matrix)\n",
        "  print()\n",
        "\n",
        "  random_array = np.random.random(30)\n",
        "  mean_value = random_array.mean()\n",
        "  print(\"4. Random array (first 5 elements) and mean:\")\n",
        "  print(random_array[:5])\n",
        "  print(\"Mean:\", mean_value)\n",
        "  print()\n",
        "\n",
        "  random_10x10 = np.random.random((10, 10))\n",
        "  min_value = random_10x10.min()\n",
        "  max_value = random_10x10.max()\n",
        "  print(\"5. 10x10 random array (first 2x2 corner):\")\n",
        "  print(random_10x10[:2, :2])\n",
        "  print(\"Minimum:\", min_value)\n",
        "  print(\"Maximum:\", max_value)\n",
        "  print()\n",
        "\n",
        "  zero_array = np.zeros(10)\n",
        "  zero_array[4] = 1\n",
        "  print(\"6. Zero array with 5th element as 1:\")\n",
        "  print(zero_array)\n",
        "  print()\n",
        "\n",
        "  arr = np.array([1,2,0,0,4,0])\n",
        "  reversed_arr = arr[::-1]\n",
        "  print(\"7. Reversed array [1,2,0,0,4,0]:\")\n",
        "  print(reversed_arr)\n",
        "  print()\n",
        "\n",
        "  border_array = np.ones((5,5))\n",
        "  border_array[1:-1, 1:-1] = 0\n",
        "  print(\"8. 5x5 array with 1 on border, 0 inside:\")\n",
        "  print(border_array)\n",
        "  print()\n",
        "\n",
        "  checkerboard = np.zeros((8,8))\n",
        "  checkerboard[1::2, ::2] = 1\n",
        "  checkerboard[::2, 1::2] = 1\n",
        "  print(\"9. 8x8 checkerboard pattern:\")\n",
        "  print(checkerboard)\n",
        "\n",
        "array_manipulation()"
      ],
      "metadata": {
        "colab": {
          "base_uri": "https://localhost:8080/"
        },
        "id": "oUYpUOB61_b6",
        "outputId": "54dc525a-86a7-436a-efed-e2064d05879b"
      },
      "execution_count": null,
      "outputs": [
        {
          "output_type": "stream",
          "name": "stdout",
          "text": [
            "1. Array from 10 to 49:\n",
            "[10 11 12 13 14 15 16 17 18 19 20 21 22 23 24 25 26 27 28 29 30 31 32 33\n",
            " 34 35 36 37 38 39 40 41 42 43 44 45 46 47 48 49]\n",
            "\n",
            "2. 3x3 matrix (0-8):\n",
            "[[0 1 2]\n",
            " [3 4 5]\n",
            " [6 7 8]]\n",
            "\n",
            "3. 3x3 identity matrix:\n",
            "[[1. 0. 0.]\n",
            " [0. 1. 0.]\n",
            " [0. 0. 1.]]\n",
            "\n",
            "4. Random array (first 5 elements) and mean:\n",
            "[0.72980663 0.32069849 0.12476316 0.17470817 0.9061561 ]\n",
            "Mean: 0.4970454816551336\n",
            "\n",
            "5. 10x10 random array (first 2x2 corner):\n",
            "[[0.73170129 0.76261359]\n",
            " [0.07019702 0.96364827]]\n",
            "Minimum: 0.0031296136755967208\n",
            "Maximum: 0.9854404772888933\n",
            "\n",
            "6. Zero array with 5th element as 1:\n",
            "[0. 0. 0. 0. 1. 0. 0. 0. 0. 0.]\n",
            "\n",
            "7. Reversed array [1,2,0,0,4,0]:\n",
            "[0 4 0 0 2 1]\n",
            "\n",
            "8. 5x5 array with 1 on border, 0 inside:\n",
            "[[1. 1. 1. 1. 1.]\n",
            " [1. 0. 0. 0. 1.]\n",
            " [1. 0. 0. 0. 1.]\n",
            " [1. 0. 0. 0. 1.]\n",
            " [1. 1. 1. 1. 1.]]\n",
            "\n",
            "9. 8x8 checkerboard pattern:\n",
            "[[0. 1. 0. 1. 0. 1. 0. 1.]\n",
            " [1. 0. 1. 0. 1. 0. 1. 0.]\n",
            " [0. 1. 0. 1. 0. 1. 0. 1.]\n",
            " [1. 0. 1. 0. 1. 0. 1. 0.]\n",
            " [0. 1. 0. 1. 0. 1. 0. 1.]\n",
            " [1. 0. 1. 0. 1. 0. 1. 0.]\n",
            " [0. 1. 0. 1. 0. 1. 0. 1.]\n",
            " [1. 0. 1. 0. 1. 0. 1. 0.]]\n"
          ]
        }
      ]
    },
    {
      "cell_type": "markdown",
      "source": [
        "Problem- 3: Array Operations:\n",
        " For the following arrays:\n",
        " x = np.array([[1,2],[3,5]]) and y = np.array([[5,6],[7,8]]);\n",
        " v = np.array([9,10]) and w = np.array([11,12]);\n",
        " Complete all the task using numpy:\n",
        " 1. Add the two array.\n",
        " 2. Subtract the two array.\n",
        " 3. Multiply the array with any integers of your choice.\n",
        " 4. Find the square of each element of the array.\n",
        " 5. Find the dot product between: v(and)w ; x(and)v ; x(and)y.\n",
        " 6. Concatenate x(and)y along row and Concatenate v(and)w along column.\n",
        " {Hint:try np.concatenate() or np.vstack() functions.\n",
        " 7. Concatenate x(and)v; if you get an error, observe and explain why did you get the error?"
      ],
      "metadata": {
        "id": "5v10lAZLBAp4"
      }
    },
    {
      "cell_type": "code",
      "source": [
        "import numpy as np\n",
        "\n",
        "def array_operation():\n",
        "  x = np.array([[1,2], [3,5]])\n",
        "  y = np.array([[5,6], [7,8]])\n",
        "  v = np.array([9,10])\n",
        "  w = np.array([11,12])\n",
        "\n",
        "  addition_add = x+y\n",
        "  print(\"1. Addition of x an y:\")\n",
        "  print(addition_add)\n",
        "  print()\n",
        "\n",
        "  subtract_sub = x-y\n",
        "  print(\"2. Subtraction of x an y:\")\n",
        "  print(subtract_sub)\n",
        "  print()\n",
        "\n",
        "  multiplication_multiply = x*3\n",
        "  print(\"3. Multiply of with 3:\")\n",
        "  print(multiplication_multiply)\n",
        "  print()\n",
        "\n",
        "  square_square = np.square(x)\n",
        "  print(\"4. Square of each element in x:\")\n",
        "  print(square_square)\n",
        "  print()\n",
        "\n",
        "  v_w_dot = np.dot(v,w)\n",
        "  x_v_dot = np.dot(x,v)\n",
        "  x_y_dot = np.dot(x,y)\n",
        "  print(\"5. Dot products:\")\n",
        "  print(\"v and w:\", v_w_dot)\n",
        "  print(\"x and v:\", x_v_dot)\n",
        "  print(\"x and y:\")\n",
        "  print(x_y_dot)\n",
        "  print()\n",
        "\n",
        "  concat_rows = np.concatenate((x,y), axis=0)\n",
        "  concat_cols = np.vstack((v,w))\n",
        "  print(\"6. Concatenations:\")\n",
        "  print(\"x and y along rows:\")\n",
        "  print(concat_rows)\n",
        "  print(\"v and w along columns:\")\n",
        "  print(concat_cols)\n",
        "  print()\n",
        "\n",
        "  try:\n",
        "    concat_x_v = np.concatenate((x,v))\n",
        "    print(\"7. Concatenation of x and v:\")\n",
        "    print(concat_x_v)\n",
        "  except ValueError as e:\n",
        "    print(\"7. Concatenation of x and v failed:\")\n",
        "    print(\"Error:\", str(e))\n",
        "    print(\"Explanation: The error occured because x is a 2D array (2x2) an v is a 1D array (2 elements).\")\n",
        "\n",
        "array_operation()\n"
      ],
      "metadata": {
        "colab": {
          "base_uri": "https://localhost:8080/"
        },
        "id": "rni93WqR_q6q",
        "outputId": "faeeea1d-ec2c-4b36-ae08-25afe3c0bad9"
      },
      "execution_count": null,
      "outputs": [
        {
          "output_type": "stream",
          "name": "stdout",
          "text": [
            "1. Addition of x an y:\n",
            "[[ 6  8]\n",
            " [10 13]]\n",
            "\n",
            "2. Subtraction of x an y:\n",
            "[[-4 -4]\n",
            " [-4 -3]]\n",
            "\n",
            "3. Multiply of with 3:\n",
            "[[ 3  6]\n",
            " [ 9 15]]\n",
            "\n",
            "4. Square of each element in x:\n",
            "[[ 1  4]\n",
            " [ 9 25]]\n",
            "\n",
            "5. Dot products:\n",
            "v and w: 219\n",
            "x and v: [29 77]\n",
            "x and y:\n",
            "[[19 22]\n",
            " [50 58]]\n",
            "\n",
            "6. Concatenations:\n",
            "x and y along rows:\n",
            "[[1 2]\n",
            " [3 5]\n",
            " [5 6]\n",
            " [7 8]]\n",
            "v and w along columns:\n",
            "[[ 9 10]\n",
            " [11 12]]\n",
            "\n",
            "7. Concatenation of x and v failed:\n",
            "Error: all the input arrays must have same number of dimensions, but the array at index 0 has 2 dimension(s) and the array at index 1 has 1 dimension(s)\n",
            "Explanation: The error occured because x is a 2D array (2x2) an v is a 1D array (2 elements).\n"
          ]
        }
      ]
    },
    {
      "cell_type": "code",
      "source": [
        "import numpy as np\n",
        "\n",
        "def matrix_operations():\n",
        "  A = np.array([[3,4], [7,8]])\n",
        "  B = np.array([[5,3], [2,1]])\n",
        "\n",
        "  A_inv = np.linalg.inv(A)\n",
        "  identity_proof = np.dot (A, A_inv)\n",
        "  print(\"1. Proving A * A^-1 = I:\")\n",
        "  print(\"A * A^-1 = I:\")\n",
        "  print(identity_proof.round())\n",
        "  print(\"Verification: Close to identify matrix (1s on diagonal, 0s lesewhere)\")\n",
        "\n",
        "  AB = np.dot(A, B)\n",
        "  BA = np.dot(B, A)\n",
        "  print(\"2. Testing AB = BA:\")\n",
        "  print(\"AB:\")\n",
        "  print(AB)\n",
        "  print(\"BA:\")\n",
        "  print(BA)\n",
        "  print(\"Verification: AB ≠ BA (matrices are not equal) \")\n",
        "  print()\n",
        "\n",
        "  AB_transpose = np.transpose(AB)\n",
        "  B_transpose = np.transpose(B)\n",
        "  A_transpose = np.transpose(A)\n",
        "  BT_AT = np.dot(B_transpose, A_transpose)\n",
        "  print(\"3. Proving (AB)^T = B^T * A^T:\")\n",
        "  print(\"(AB)^T:\")\n",
        "  print(AB_transpose)\n",
        "  print(\"B^T * A^T:\")\n",
        "  print(BT_AT)\n",
        "  print(\"Verification: (AB)^T = B^T * A^T (matrices are equal)\")\n",
        "  print()\n",
        "\n",
        "  coeff_matrix = np.array([[2, -3, 1],\n",
        "                          [1, -1, 2],\n",
        "                          [3, 1, -1]])\n",
        "  constants = np.array([-1, -3, 9])\n",
        "\n",
        "  coeff_inv = np.linalg.inv(coeff_matrix)\n",
        "  solution = np.dot(coeff_inv, constants)\n",
        "  print(\"4. Solving system of equations using inverse method:\")\n",
        "  print(\"Coefficient matrix A:\")\n",
        "  print(coeff_matrix)\n",
        "  print(\"Constants B:\", constants)\n",
        "  print(\"Solution X (x, y, z):\", solution)\n",
        "  print(\"Verification: A * X should equal B\")\n",
        "  print(np.dot(coeff_matrix, solution).round())\n",
        "  print()\n",
        "\n",
        "  solution_linalg = np.linalg.solve(coeff_matrix, constants)\n",
        "  print(\"5. Solving using np.linalg.solve:\")\n",
        "  print(\"Solution X (x, y, z):\", solution_linalg)\n",
        "  print(\"Verification: Should match inverse method solution\")\n",
        "\n",
        "matrix_operations()"
      ],
      "metadata": {
        "id": "GOLfO3WJEBES",
        "colab": {
          "base_uri": "https://localhost:8080/"
        },
        "outputId": "d35ca4ba-41be-421f-8b24-3940815bf33a"
      },
      "execution_count": null,
      "outputs": [
        {
          "output_type": "stream",
          "name": "stdout",
          "text": [
            "1. Proving A * A^-1 = I:\n",
            "A * A^-1 = I:\n",
            "[[1. 0.]\n",
            " [0. 1.]]\n",
            "Verification: Close to identify matrix (1s on diagonal, 0s lesewhere)\n",
            "2. Testing AB = BA:\n",
            "AB:\n",
            "[[23 13]\n",
            " [51 29]]\n",
            "BA:\n",
            "[[36 44]\n",
            " [13 16]]\n",
            "Verification: AB ≠ BA (matrices are not equal) \n",
            "\n",
            "3. Proving (AB)^T = B^T * A^T:\n",
            "(AB)^T:\n",
            "[[23 51]\n",
            " [13 29]]\n",
            "B^T * A^T:\n",
            "[[23 51]\n",
            " [13 29]]\n",
            "Verification: (AB)^T = B^T * A^T (matrices are equal)\n",
            "\n",
            "4. Solving system of equations using inverse method:\n",
            "Coefficient matrix A:\n",
            "[[ 2 -3  1]\n",
            " [ 1 -1  2]\n",
            " [ 3  1 -1]]\n",
            "Constants B: [-1 -3  9]\n",
            "Solution X (x, y, z): [ 2.  1. -2.]\n",
            "Verification: A * X should equal B\n",
            "[-1. -3.  9.]\n",
            "\n",
            "5. Solving using np.linalg.solve:\n",
            "Solution X (x, y, z): [ 2.  1. -2.]\n",
            "Verification: Should match inverse method solution\n"
          ]
        }
      ]
    },
    {
      "cell_type": "markdown",
      "source": [
        " 10.2 Experiment: How Fast is Numpy?\n",
        " In this exercise, you will compare the performance and implementation of operations using plain Python\n",
        " lists (arrays) and NumPy arrays. Follow the instructions:\n",
        " 1. Element-wise Addition:\n",
        " • Using Python Lists, perform element-wise addition of two lists of size 1,000,000. Measure\n",
        " and Print the time taken for this operation.\n",
        " • Using Numpy Arrays, Repeat the calculation and measure and print the time taken for\n",
        " this operation.\n",
        " 2. Element-wise Multiplication\n",
        " • Using Python Lists, perform element-wise multiplication of two lists of size 1,000,000.\n",
        " Measure and Print the time taken for this operation.\n",
        " • Using Numpy Arrays, Repeat the calculation and measure and print the time taken for\n",
        " this operation.\n",
        " 3. Dot Product\n",
        " • Using Python Lists, compute the dot product of two lists of size 1,000,000. Measure and\n",
        " Print the time taken for this operation.\n",
        " • Using Numpy Arrays, Repeat the calculation and measure and print the time taken for\n",
        " this operation.\n",
        " 4. Matrix Multiplication\n",
        " • Using Python lists, perform matrix multiplication of two matrices of size 1000x1000. Mea\n",
        "sure and print the time taken for this operation.\n",
        " • Using NumPy arrays, perform matrix multiplication of two matrices of size 1000x1000.\n",
        " Measure and print the time taken for this operation"
      ],
      "metadata": {
        "id": "RJRSBYlN9bME"
      }
    },
    {
      "cell_type": "code",
      "source": [
        "import numpy as np\n",
        "import time\n",
        "import random\n",
        "\n",
        "def performance_comparison():\n",
        "    LIST_SIZE = 1_000_000\n",
        "    MATRIX_SIZE = 1000\n",
        "\n",
        "    print(\"1. Element-wise Addition:\")\n",
        "    list1 = [random.random() for _ in range(LIST_SIZE)]\n",
        "    list2 = [random.random() for _ in range(LIST_SIZE)]\n",
        "    start_time = time.time()\n",
        "    list_addition = [x + y for x, y in zip(list1, list2)]\n",
        "    list_add_time = time.time() - start_time\n",
        "    print(f\"Python Lists: {list_add_time:.4f} seconds\")\n",
        "\n",
        "    arr1 = np.random.random(LIST_SIZE)\n",
        "    arr2 = np.random.random(LIST_SIZE)\n",
        "    start_time = time.time()\n",
        "    numpy_addition = arr1 + arr2\n",
        "    numpy_add_time = time.time() - start_time\n",
        "    print(f\"NumPy Arrays: {numpy_add_time:.4f} seconds\")\n",
        "    print()\n",
        "\n",
        "    print(\"2. Element-wise Multiplication:\")\n",
        "    start_time = time.time()\n",
        "    list_multiplication = [x * y for x, y in zip(list1, list2)]\n",
        "    list_mult_time = time.time() - start_time\n",
        "    print(f\"Python Lists: {list_mult_time:.4f} seconds\")\n",
        "\n",
        "    start_time = time.time()\n",
        "    numpy_multiplication = arr1 * arr2\n",
        "    numpy_mult_time = time.time() - start_time\n",
        "    print(f\"NumPy Arrays: {numpy_mult_time:.4f} seconds\")\n",
        "    print()\n",
        "\n",
        "    print(\"3. Dot Product:\")\n",
        "    start_time = time.time()\n",
        "    list_dot = sum(x * y for x, y in zip(list1, list2))\n",
        "    list_dot_time = time.time() - start_time\n",
        "    print(f\"Python Lists: {list_dot_time:.4f} seconds\")\n",
        "\n",
        "    start_time = time.time()\n",
        "    numpy_dot = np.dot(arr1, arr2)\n",
        "    numpy_dot_time = time.time() - start_time\n",
        "    print(f\"NumPy Arrays: {numpy_dot_time:.4f} seconds\")\n",
        "    print()\n",
        "\n",
        "    print(\"4. Matrix Multiplication (1000x1000):\")\n",
        "    matrix1 = [[random.random() for _ in range(MATRIX_SIZE)] for _ in range(MATRIX_SIZE)]\n",
        "    matrix2 = [[random.random() for _ in range(MATRIX_SIZE)] for _ in range(MATRIX_SIZE)]\n",
        "    result = [[0] * MATRIX_SIZE for _ in range(MATRIX_SIZE)]\n",
        "\n",
        "    start_time = time.time()\n",
        "    for i in range(MATRIX_SIZE):\n",
        "        for j in range(MATRIX_SIZE):\n",
        "            for k in range(MATRIX_SIZE):\n",
        "                result[i][j] += matrix1[i][k] * matrix2[k][j]\n",
        "    list_matrix_time = time.time() - start_time\n",
        "    print(f\"Python Lists: {list_matrix_time:.4f} seconds\")\n",
        "\n",
        "    numpy_matrix1 = np.random.random((MATRIX_SIZE, MATRIX_SIZE))\n",
        "    numpy_matrix2 = np.random.random((MATRIX_SIZE, MATRIX_SIZE))\n",
        "    start_time = time.time()\n",
        "    numpy_matrix_result = np.dot(numpy_matrix1, numpy_matrix2)\n",
        "    numpy_matrix_time = time.time() - start_time\n",
        "    print(f\"NumPy Arrays: {numpy_matrix_time:.4f} seconds\")\n",
        "\n",
        "performance_comparison()"
      ],
      "metadata": {
        "colab": {
          "base_uri": "https://localhost:8080/"
        },
        "id": "QPrx_p_b9H89",
        "outputId": "cec371ab-1f87-46e5-d611-98799c3df790"
      },
      "execution_count": null,
      "outputs": [
        {
          "output_type": "stream",
          "name": "stdout",
          "text": [
            "1. Element-wise Addition:\n",
            "Python Lists: 0.0691 seconds\n",
            "NumPy Arrays: 0.0042 seconds\n",
            "\n",
            "2. Element-wise Multiplication:\n",
            "Python Lists: 0.0673 seconds\n",
            "NumPy Arrays: 0.0045 seconds\n",
            "\n",
            "3. Dot Product:\n",
            "Python Lists: 0.0671 seconds\n",
            "NumPy Arrays: 0.0013 seconds\n",
            "\n",
            "4. Matrix Multiplication (1000x1000):\n",
            "Python Lists: 201.9277 seconds\n",
            "NumPy Arrays: 0.1258 seconds\n"
          ]
        }
      ]
    },
    {
      "cell_type": "code",
      "source": [],
      "metadata": {
        "id": "NYF9u99K9eZ_"
      },
      "execution_count": null,
      "outputs": []
    }
  ]
}